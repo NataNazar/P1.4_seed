{
 "cells": [
  {
   "cell_type": "markdown",
   "metadata": {
    "ein.tags": [
     "worksheet-0"
    ],
    "slideshow": {
     "slide_type": "-"
    }
   },
   "source": [
    "# Nonlinear Equations\n",
    "\n",
    "We want to find a root of the nonlinear function $f$ using different methods.\n",
    "\n",
    "1. Bisection method\n",
    "2. Newton method\n",
    "3. Chord method\n",
    "4. Secant method\n",
    "5. Fixed point iterations\n",
    "\n",
    "\n",
    "\n"
   ]
  },
  {
   "cell_type": "code",
   "execution_count": null,
   "metadata": {},
   "outputs": [],
   "source": []
  },
  {
   "cell_type": "code",
   "execution_count": 9,
   "metadata": {},
   "outputs": [],
   "source": [
    "%matplotlib inline\n",
    "from numpy import *\n",
    "from matplotlib.pyplot import *\n",
    "import sympy as sym\n"
   ]
  },
  {
   "cell_type": "code",
   "execution_count": 10,
   "metadata": {
    "autoscroll": "json-false",
    "ein.tags": [
     "worksheet-0"
    ],
    "slideshow": {
     "slide_type": "-"
    }
   },
   "outputs": [
    {
     "data": {
      "image/png": "[encoded data removed]",
      "text/plain": [
       "<Figure size 432x288 with 1 Axes>"
      ]
     },
     "metadata": {
      "needs_background": "light"
     },
     "output_type": "display_data"
    }
   ],
   "source": [
    "t = sym.symbols('t')\n",
    "\n",
    "f_sym = t/8. * (63.*t**4 - 70.*t**2. +15.) # Legendre polynomial of order 5\n",
    "\n",
    "f_prime_sym = sym.diff(f_sym,t)\n",
    "\n",
    "f = sym.lambdify(t, f_sym, 'numpy')\n",
    "f_prime = sym.lambdify(t,f_prime_sym, 'numpy')\n",
    "\n",
    "phi = lambda x : 63./70.*x**3 + 15./(70.*x)\n",
    "#phi = lambda x : 70.0/15.0*x**3 - 63.0/15.0*x**5\n",
    "#phi = lambda x : sqrt((63.*x**4 + 15.0)/70.)\n",
    "\n",
    "# Let's plot\n",
    "n = 1025\n",
    "\n",
    "x = linspace(-1,1,n)\n",
    "c = zeros_like(x)\n",
    "\n",
    "_ = plot(x,f(x))\n",
    "_ = plot(x,c)\n",
    "_ = grid()\n"
   ]
  },
  {
   "cell_type": "code",
   "execution_count": 11,
   "metadata": {},
   "outputs": [],
   "source": [
    "# Initial data for the variuos algorithms\n",
    "\n",
    "# interval in which we seek the solution \n",
    "a = 0.7\n",
    "b = 1.\n",
    "\n",
    "# initial points\n",
    "x0 = (a+b)/2.0\n",
    "x00 = b\n"
   ]
  },
  {
   "cell_type": "code",
   "execution_count": 12,
   "metadata": {},
   "outputs": [],
   "source": [
    "# stopping criteria\n",
    "eps = 1e-10\n",
    "n_max = 1000"
   ]
  },
  {
   "cell_type": "markdown",
   "metadata": {},
   "source": [
    "## Bisection method\n",
    "\n",
    "$$\n",
    "x^k = \\frac{a^k+b^k}{2}\n",
    "$$\n",
    "```\n",
    "                   if (f(a_k) * f(x_k)) < 0:\n",
    "                      b_k1 = x_k\n",
    "                      a_k1 = a_k\n",
    "                   else:\n",
    "                      a_k1 = x_k\n",
    "                      b_k1 = b_k\n",
    "```"
   ]
  },
  {
   "cell_type": "code",
   "execution_count": 15,
   "metadata": {},
   "outputs": [
    {
     "name": "stdout",
     "output_type": "stream",
     "text": [
      "32\n",
      "0.9061798459501006\n",
      "7.857261621871514e-11\n"
     ]
    },
    {
     "name": "stderr",
     "output_type": "stream",
     "text": [
      "/usr/local/lib/python3.7/site-packages/matplotlib/mathtext.py:2542: SyntaxWarning: Exception creating Regex for oneOf, building MatchFirst\n",
      "  p.subsuperop    <<= oneOf([\"_\", \"^\"])\n"
     ]
    },
    {
     "data": {
      "image/png": "[encoded data removed]",
      "text/plain": [
       "<Figure size 432x288 with 1 Axes>"
      ]
     },
     "metadata": {
      "needs_background": "light"
     },
     "output_type": "display_data"
    }
   ],
   "source": [
    "def bisect(f,a,b,eps,n_max):\n",
    "    a_new = a\n",
    "    b_new = b\n",
    "    x = mean([a,b])\n",
    "    err = eps + 1.\n",
    "    errors = [err]\n",
    "    it = 0\n",
    "    while (err > eps and it < n_max):\n",
    "        if ( f(a_new) * f(x) < 0 ):\n",
    "            # root in (a_new,x)\n",
    "            b_new = x\n",
    "        else:\n",
    "            # root in (x,b_new)\n",
    "            a_new = x\n",
    "        \n",
    "        x_new = mean([a_new,b_new])\n",
    "        \n",
    "        #err = 0.5 *(b_new -a_new)\n",
    "        err = abs(f(x_new))\n",
    "        #err = abs(x-x_new)\n",
    "        \n",
    "        errors.append(err)\n",
    "        x = x_new\n",
    "        it += 1\n",
    "    \n",
    "    semilogy(errors)\n",
    "    print (it)\n",
    "    print (x)\n",
    "    print (err)\n",
    "    return errors\n",
    "              \n",
    "errors_bisect = bisect(f,a,b,eps,n_max)\n",
    "\n",
    "\n",
    "             \n",
    "        "
   ]
  },
  {
   "cell_type": "code",
   "execution_count": null,
   "metadata": {
    "collapsed": true
   },
   "outputs": [],
   "source": [
    "# is the number of iterations coherent with the theoretical estimation?"
   ]
  },
  {
   "cell_type": "markdown",
   "metadata": {},
   "source": [
    "In order to find out other methods for solving non-linear equations, let's compute the Taylor's series of $f(x^k)$ up to the first order \n",
    "\n",
    "$$\n",
    "f(x^k) \\simeq f(x^k) + (x-x^k)f^{\\prime}(x^k)\n",
    "$$\n",
    "which suggests the following iterative scheme\n",
    "$$\n",
    "x^{k+1} = x^k - \\frac{f(x^k)}{f^{\\prime}(x^k)}\n",
    "$$\n",
    "\n",
    "The following methods are obtained applying the above scheme where\n",
    "\n",
    "$$\n",
    "f^{\\prime}(x^k) \\approx q^k\n",
    "$$"
   ]
  },
  {
   "cell_type": "markdown",
   "metadata": {},
   "source": [
    "## Newton's method\n",
    "$$\n",
    "q^k = f^{\\prime}(x^k)\n",
    "$$\n",
    "\n",
    "$$\n",
    "x^{k+1} = x^k - \\frac{f(x^k)}{q^k}\n",
    "$$"
   ]
  },
  {
   "cell_type": "code",
   "execution_count": 16,
   "metadata": {},
   "outputs": [
    {
     "ename": "AttributeError",
     "evalue": "'function' object has no attribute 'diff'",
     "output_type": "error",
     "traceback": [
      "\u001b[0;31m---------------------------------------------------------------------------\u001b[0m",
      "\u001b[0;31mAttributeError\u001b[0m                            Traceback (most recent call last)",
      "\u001b[0;32m<timed exec>\u001b[0m in \u001b[0;36m<module>\u001b[0;34m\u001b[0m\n",
      "\u001b[0;32m<ipython-input-16-da7de826b466>\u001b[0m in \u001b[0;36mnewton\u001b[0;34m(f, f_prime, x0, eps, n_max)\u001b[0m\n\u001b[1;32m     10\u001b[0m     \u001b[0mx_next\u001b[0m\u001b[0;34m=\u001b[0m\u001b[0mx0\u001b[0m\u001b[0;34m+\u001b[0m\u001b[0;36m1.\u001b[0m\u001b[0;34m\u001b[0m\u001b[0;34m\u001b[0m\u001b[0m\n\u001b[1;32m     11\u001b[0m     \u001b[0;32mwhile\u001b[0m \u001b[0;34m(\u001b[0m\u001b[0mx_next\u001b[0m\u001b[0;34m-\u001b[0m\u001b[0mx0\u001b[0m\u001b[0;34m>\u001b[0m\u001b[0meps\u001b[0m \u001b[0;32mand\u001b[0m \u001b[0mit\u001b[0m \u001b[0;34m<\u001b[0m \u001b[0mn_max\u001b[0m\u001b[0;34m)\u001b[0m\u001b[0;34m:\u001b[0m\u001b[0;34m\u001b[0m\u001b[0;34m\u001b[0m\u001b[0m\n\u001b[0;32m---> 12\u001b[0;31m         \u001b[0mf_prime\u001b[0m\u001b[0;34m=\u001b[0m\u001b[0mf\u001b[0m\u001b[0;34m.\u001b[0m\u001b[0mdiff\u001b[0m\u001b[0;34m(\u001b[0m\u001b[0mx\u001b[0m\u001b[0;34m)\u001b[0m\u001b[0;34m\u001b[0m\u001b[0;34m\u001b[0m\u001b[0m\n\u001b[0m\u001b[1;32m     13\u001b[0m         \u001b[0mx_next\u001b[0m\u001b[0;34m=\u001b[0m\u001b[0mx0\u001b[0m\u001b[0;34m-\u001b[0m\u001b[0mf\u001b[0m\u001b[0;34m(\u001b[0m\u001b[0mx0\u001b[0m\u001b[0;34m)\u001b[0m\u001b[0;34m/\u001b[0m\u001b[0mf_prime\u001b[0m\u001b[0;34m(\u001b[0m\u001b[0mx0\u001b[0m\u001b[0;34m)\u001b[0m\u001b[0;34m\u001b[0m\u001b[0;34m\u001b[0m\u001b[0m\n\u001b[1;32m     14\u001b[0m         \u001b[0mx\u001b[0m\u001b[0;34m=\u001b[0m\u001b[0mxnext\u001b[0m\u001b[0;34m\u001b[0m\u001b[0;34m\u001b[0m\u001b[0m\n",
      "\u001b[0;31mAttributeError\u001b[0m: 'function' object has no attribute 'diff'"
     ]
    }
   ],
   "source": [
    "def newton(f,f_prime,x0,eps,n_max):\n",
    "    x = sym.symbols('x')\n",
    "    eps = 1e-10\n",
    "    n_max = 1000\n",
    "    \n",
    "    f_sym = x/8. * (63.*x**4 - 70.*x**2. +15.) # Legendre polynomial of order 5\n",
    "    \n",
    "    it = 0\n",
    "    x0=0\n",
    "    x_next=x0+1.\n",
    "    while (x_next-x0>eps and it < n_max):\n",
    "        f_prime=f.diff(x)\n",
    "        x_next=x0-f(x0)/f_prime(x0) \n",
    "        x=xnext\n",
    "        it += 1\n",
    "        err = abs(f(x))\n",
    "    \n",
    "%time errors_newton = newton(f,f_prime,1.0,eps,n_max)"
   ]
  },
  {
   "cell_type": "markdown",
   "metadata": {},
   "source": [
    "## Chord method\n",
    "\n",
    "$$\n",
    "q^k \\equiv q = \\frac{f(b)-f(a)}{b-a}\n",
    "$$\n",
    "\n",
    "$$\n",
    "x^{k+1} = x^k - \\frac{f(x^k)}{q}\n",
    "$$"
   ]
  },
  {
   "cell_type": "code",
   "execution_count": null,
   "metadata": {
    "autoscroll": "json-false",
    "ein.tags": [
     "worksheet-0"
    ],
    "slideshow": {
     "slide_type": "-"
    }
   },
   "outputs": [],
   "source": [
    "def chord(f,a,b,x0,eps,n_max):\n",
    "    pass # TODO\n",
    "\n",
    "errors_chord = chord (f,a,b,x0,eps,n_max)"
   ]
  },
  {
   "cell_type": "markdown",
   "metadata": {},
   "source": [
    "## Secant method\n",
    "\n",
    "$$\n",
    "q^k = \\frac{f(x^k)-f(x^{k-1})}{x^k - x^{k-1}}\n",
    "$$\n",
    "\n",
    "$$\n",
    "x^{k+1} = x^k - \\frac{f(x^k)}{q^k}\n",
    "$$\n",
    "\n",
    "Note that this algorithm requirs **two** initial points"
   ]
  },
  {
   "cell_type": "code",
   "execution_count": null,
   "metadata": {},
   "outputs": [],
   "source": [
    "def secant(f,x0,x00,eps,n_max):\n",
    "    pass # TODO\n",
    "    \n",
    "errors_secant = secant(f,x0,x00,eps,n_max)"
   ]
  },
  {
   "cell_type": "markdown",
   "metadata": {},
   "source": [
    "## Fixed point iterations\n",
    "\n",
    "$$\n",
    "f(x)=0 \\to x-\\phi(x)=0\n",
    "$$\n",
    "\n",
    "$$\n",
    "x^{k+1} = \\phi(x^k)\n",
    "$$"
   ]
  },
  {
   "cell_type": "code",
   "execution_count": null,
   "metadata": {},
   "outputs": [],
   "source": [
    "def fixed_point(phi,x0,eps,n_max):\n",
    "    pass # TODO\n",
    "\n",
    "errors_fixed = fixed_point(phi,0.3,eps,n_max)\n",
    "        "
   ]
  },
  {
   "cell_type": "markdown",
   "metadata": {},
   "source": [
    "## Comparison"
   ]
  },
  {
   "cell_type": "code",
   "execution_count": null,
   "metadata": {},
   "outputs": [],
   "source": [
    "# plot the error convergence for the methods\n",
    "loglog(errors_bisect, label='bisect')\n",
    "loglog(errors_chord, label='chord')\n",
    "loglog(errors_secant, label='secant')\n",
    "loglog(errors_newton, label ='newton')\n",
    "loglog(errors_fixed, label ='fixed')\n",
    "_ = legend()"
   ]
  },
  {
   "cell_type": "code",
   "execution_count": null,
   "metadata": {},
   "outputs": [],
   "source": [
    "# Let's compare the scipy implmentation of Newton's method with our.."
   ]
  },
  {
   "cell_type": "code",
   "execution_count": null,
   "metadata": {},
   "outputs": [],
   "source": [
    "import scipy.optimize as opt\n",
    "%time opt.newton(f, 1.0, f_prime, tol = eps)"
   ]
  },
  {
   "cell_type": "code",
   "execution_count": null,
   "metadata": {
    "collapsed": true
   },
   "outputs": [],
   "source": []
  }
 ],
 "metadata": {
  "anaconda-cloud": {},
  "kernelspec": {
   "display_name": "Python 3",
   "language": "python",
   "name": "python3"
  },
  "language_info": {
   "codemirror_mode": {
    "name": "ipython",
    "version": 3
   },
   "file_extension": ".py",
   "mimetype": "text/x-python",
   "name": "python",
   "nbconvert_exporter": "python",
   "pygments_lexer": "ipython3",
   "version": "3.7.5"
  },
  "name": "07_non_linear_equations.ipynb"
 },
 "nbformat": 4,
 "nbformat_minor": 1
}
